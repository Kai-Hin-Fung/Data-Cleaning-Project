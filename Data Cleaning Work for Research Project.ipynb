{
 "cells": [
  {
   "cell_type": "code",
   "execution_count": 1,
   "metadata": {},
   "outputs": [],
   "source": [
    "import pandas as pd\n",
    "import numpy as np\n",
    "import re\n",
    "read_file = pd.read_excel (r'collection_matched.xlsx')\n",
    "read_file.to_csv (r'collection_matched.csv', index = None, header=True)"
   ]
  },
  {
   "cell_type": "code",
   "execution_count": 2,
   "metadata": {},
   "outputs": [],
   "source": [
    "sample = pd.read_csv('collection_matched.csv')\n"
   ]
  },
  {
   "cell_type": "code",
   "execution_count": 3,
   "metadata": {
    "scrolled": true
   },
   "outputs": [
    {
     "data": {
      "text/plain": [
       "'CITIZENS HOLDING COMPANY \\n521 Main St., Philadelphia, MS 39350 \\nTel; 601-656-4692 \\nhttp:/ /www.citizensholdingcompany.com \\n*Chrni, Pres & Chief Exec Officer-Joe Steve Webb \\nTreas-Robert T. Smith \\nSecy-Carolyn K. McKee \\nAccts- Horne CPA Group, Jackson, MS \\nPrimary Bank-Trustmark National Bank \\nPrimary Law Firm-Alford Thomas & Kilgore \\nNet Sales: S31.90Mil Employees: 131 \\nStock Exchange(s): ASE Ticker: CIZ \\nOther Directors Are: \\nM. G. Bond \\nW.W. Dungan \\nDon L. Kilgore \\nHerbert A. King \\nWilliam M. Mars \\nDavid P. Webb \\nKarl Brantley \\nDon L. Fulton \\nDavid A. King \\nGeorge R. · Mars \\nGreg McKee \\nBUSINESS: Bank holding co. \\nNAIC: 551111 '"
      ]
     },
     "execution_count": 3,
     "metadata": {},
     "output_type": "execute_result"
    }
   ],
   "source": [
    "sample['TextContent'][149]"
   ]
  },
  {
   "cell_type": "code",
   "execution_count": 4,
   "metadata": {},
   "outputs": [],
   "source": [
    "#check if there is a number in text\n",
    "def num_there(text):\n",
    "    return any(i.isdigit() for i in text)"
   ]
  },
  {
   "cell_type": "code",
   "execution_count": 5,
   "metadata": {},
   "outputs": [],
   "source": [
    "#function for extracting the name of law firm\n",
    "def extract_PLF(text):\n",
    "    trial = text.split('Primary Law Firm')[1]\n",
    "    splited = trial.split(\"\\n\")\n",
    "    second_sentence = splited[1]\n",
    "    third_sentence = splited[2]\n",
    "    if num_there(second_sentence) is True:\n",
    "        law_firm= splited[0]\n",
    "        #print (law_firm)\n",
    "    elif num_there(second_sentence) is False and num_there(third_sentence) is True:\n",
    "        law_firm= splited[0]+splited[1]\n",
    "    elif num_there(second_sentence) is False and num_there(third_sentence) is False:\n",
    "        law_firm = splited[0]+splited[1]+splited[2]\n",
    "    return law_firm"
   ]
  },
  {
   "cell_type": "code",
   "execution_count": 6,
   "metadata": {},
   "outputs": [],
   "source": [
    "stopwords2 = [\n",
    "\n",
    "\"Total Assets\",\"Total Net Assets\",\"Net Assets\",\"Gross Sales\",\"Net Sales\",\"Combined Sales\",\"Gross Oper. Revenue\",\n",
    "\"Gross Oper. Rev.\",\"Gross Oper Revenue\",\"Gross Oper Rev.\",\"Gross Oper Rev\",\"Gross Operating Rev.\",\n",
    "'Gross Oper Ell!\"Jls:',\"Total Oper. Rev.\",\"Total Revenues\",\"Total Revenue\",\"Consol Revenue\",\"Gross Revenue\",\n",
    "\"Gross Revs.\",\"Net Revenue\",\"Oper Revenues\",\"Oper. Revenue\",\"Oper Revenue\",\"Prod Revenue\",\n",
    "\"Gross Oper. Earns\",\"Gross Oper Earns\",\"Gross Oper Earn\",\"Net Earnings\",\"Net Oper Earns\",\n",
    "\"Total Income\",\"Gross Income\",\"Operating Income\",\"Oper. Income\",\"Total Net Income\",\"Net.Income\",\n",
    "\"Net Income\",\"Netlncome\",\"Total lat. Income\",\"Total Investment Income\",\"Net Investment Income\",\n",
    "\"Net Investment Inc.\",\"Net Invest. Income\",\"Netlnvestmentlnc.\",\"Net Int. Income\",\"Net Int. btcome:\",\n",
    "\"Net Investment\",\"Investment Income\",\"Invest. Income Rev.\",\"Invest Income\",\"Net Interest Income\",\n",
    "\"Total Interest Incom\",\"Total Int. Income\",\"Total Int. Incom\",\"Total Intrest Incol!le:\",\n",
    "\"Total Intrest Incol!le:\",\"Interest Income\",\"Interest Revenue\",\"Ann. Premium Incom\",\"Royalties & Contract\",\n",
    "\"Mutuel Play\",\"Total Deposits\",\"Gross Deposits\",\"Gross Deposit\",\"Deposits:\",\"Assets\",\"Asset\",\n",
    "\"Sales\",\"Sale\",\"sales\",\"SaJes:\",\"Saies:\",\"Sa_les:\",\"Sal;~~:\",\"Sal;~~\",\"S3les:\",\"Sates:\",\"Revenues\",\n",
    "\"Revenue\",\"ReYenue:\", \"Revenne\",\"Revenae:\",\"Reven.ue:\",\"R~venue:\",\"Reven~e:\",\"Reven11e:\",\"Re_venue:\",\n",
    "\"R~venue:\",\"Reven_ue:\",\"Jlevenue:\",\"Eams:\",\"Income\",\"Premiums\",\"Premium\",\"Employees\",\"~ployees:\",\n",
    "\"17840amings:\",\"Stock Exchange\",\"Stock Excliange\",\"Stock Exohange\",\"Stock Ezchange\",\"Stock Ex~ange\",\n",
    "\"Ticker\",\"Also DIRECTORS\",\"Other Directors\",\"Directors:\",\"Directors Are:\",\"Canadian:\",\"PRODUCTS\",\"BUSINESS\"\n",
    "]"
   ]
  },
  {
   "cell_type": "code",
   "execution_count": 7,
   "metadata": {},
   "outputs": [
    {
     "name": "stdout",
     "output_type": "stream",
     "text": [
      "Kwiatt & Silvennan, Ltd. \n"
     ]
    }
   ],
   "source": [
    "#final extraction algorithm\n",
    "text = \"Kwiatt & Silvennan, Ltd. BUSINESS: Holding company\"\n",
    "for stopword in stopwords2:\n",
    "            # If included in a stopword, stop the loop and return text before the stopword\n",
    "    if (stopword in text):\n",
    "                # Get the text before the word\n",
    "        word = text.split(stopword)[0]\n",
    "                # If the split[0] is empty, no need to include in the return text\n",
    "        break\n",
    "print(word)\n",
    "        "
   ]
  },
  {
   "cell_type": "code",
   "execution_count": 8,
   "metadata": {},
   "outputs": [],
   "source": [
    "def clean_text2(text, stopwords2):\n",
    "    #text = text.split('Primary Law Firm')[1]\n",
    "    for stopword in stopwords2:\n",
    "        if (stopword in text):\n",
    "            text = text[:re.search(stopword, text).start()]\n",
    "    return text"
   ]
  },
  {
   "cell_type": "code",
   "execution_count": 9,
   "metadata": {
    "scrolled": true
   },
   "outputs": [],
   "source": [
    "names= []\n",
    "n= len(sample.axes[0])\n",
    "for row in range (n):\n",
    "    text_content = sample['TextContent'][row]\n",
    "    law_firm = extract_PLF(text_content)\n",
    "    this_company = clean_text2(law_firm, stopwords2)\n",
    "    names.append(this_company)\n",
    "#print(names)"
   ]
  },
  {
   "cell_type": "code",
   "execution_count": 10,
   "metadata": {},
   "outputs": [
    {
     "data": {
      "text/plain": [
       "9088"
      ]
     },
     "execution_count": 10,
     "metadata": {},
     "output_type": "execute_result"
    }
   ],
   "source": [
    "len(names)"
   ]
  },
  {
   "cell_type": "code",
   "execution_count": 11,
   "metadata": {},
   "outputs": [],
   "source": [
    "cleaned_names = []\n",
    "for i in names:\n",
    "    if '--' in i:\n",
    "        cleaned_names.append(i[2:])\n",
    "    elif '-' in i:\n",
    "        cleaned_names.append(i[1:])   \n",
    "    elif '~' in i:\n",
    "        cleaned_names.append(i[1:])\n",
    "    else:\n",
    "        cleaned_names.append(i[:])\n",
    "#cleaned_names\n"
   ]
  },
  {
   "cell_type": "code",
   "execution_count": 12,
   "metadata": {},
   "outputs": [
    {
     "data": {
      "text/plain": [
       "9088"
      ]
     },
     "execution_count": 12,
     "metadata": {},
     "output_type": "execute_result"
    }
   ],
   "source": [
    "len(cleaned_names)"
   ]
  },
  {
   "cell_type": "code",
   "execution_count": 13,
   "metadata": {},
   "outputs": [],
   "source": [
    "data= [cleaned_names[i] for i in range(len(cleaned_names))]\n",
    "df = pd.DataFrame(data) "
   ]
  },
  {
   "cell_type": "code",
   "execution_count": 14,
   "metadata": {
    "scrolled": true
   },
   "outputs": [
    {
     "data": {
      "text/plain": [
       "<bound method NDFrame.head of                                                       0\n",
       "0                    \".Mackall, ._Crounse & Moote, PLC \n",
       "1                 Benesch, Friedlander, Cop~ & Aronoff \n",
       "2                          Morgan, Lewis-& Bockius LLP \n",
       "3                                     Quarles -& Brady \n",
       "4                                     Baker- & Daniels \n",
       "...                                                 ...\n",
       "9083    Zuckerman, Spaeder, Goldstein, Taylor & Kolker \n",
       "9084  Zuckerman, Spaeder, Goldstein, Taylor & Kolker...\n",
       "9085                     Zuckert, Scoutt & Rasenberger \n",
       "9086                     Zukerman Gore & Brandeis, LLP \n",
       "9087             ---Z:ullen & Dykman Bleakey Platt LLP \n",
       "\n",
       "[9088 rows x 1 columns]>"
      ]
     },
     "execution_count": 14,
     "metadata": {},
     "output_type": "execute_result"
    }
   ],
   "source": [
    "df.head"
   ]
  },
  {
   "cell_type": "code",
   "execution_count": 15,
   "metadata": {},
   "outputs": [],
   "source": [
    "df.to_excel (r'collection_matched_number+stopwords.xlsx', index = None, header=True)"
   ]
  }
 ],
 "metadata": {
  "kernelspec": {
   "display_name": "Python 3",
   "language": "python",
   "name": "python3"
  },
  "language_info": {
   "codemirror_mode": {
    "name": "ipython",
    "version": 3
   },
   "file_extension": ".py",
   "mimetype": "text/x-python",
   "name": "python",
   "nbconvert_exporter": "python",
   "pygments_lexer": "ipython3",
   "version": "3.8.5"
  }
 },
 "nbformat": 4,
 "nbformat_minor": 4
}
